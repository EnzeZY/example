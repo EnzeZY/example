{
 "metadata": {},
 "nbformat": 3,
 "nbformat_minor": 0,
 "worksheets": [
  {
   "cells": [
    {
     "cell_type": "markdown",
     "metadata": {},
     "source": [
      "## Article 1"
     ]
    },
    {
     "cell_type": "code",
     "collapsed": false,
     "input": [
      "1 + 1"
     ],
     "language": "python",
     "metadata": {},
     "outputs": []
    },
    {
     "cell_type": "markdown",
     "metadata": {},
     "source": [
      "Let me create a plot using ggplot2"
     ]
    },
    {
     "cell_type": "code",
     "collapsed": false,
     "input": [
      "library(ggplot2)\n",
      "data(tips, package = 'reshape2')\n",
      "ggplot(tips, aes(x = total_bill, y = tip)) +\n",
      "  geom_point(aes(color = sex)) +\n",
      "  geom_line(stat = 'smooth', method = 'lm', aes(color = smoker))"
     ],
     "language": "python",
     "metadata": {},
     "outputs": []
    }
   ],
   "metadata": {}
  }
 ]
}