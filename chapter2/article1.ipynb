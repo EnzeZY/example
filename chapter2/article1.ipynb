{
 "metadata": {},
 "nbformat": 3,
 "nbformat_minor": 0,
 "worksheets": [
  {
   "cells": [
    {
     "cell_type": "markdown",
     "metadata": {},
     "source": [
      "## How rCharts Works?"
     ]
    },
    {
     "cell_type": "code",
     "collapsed": false,
     "input": [
      "require(knitr)\n",
      "opts_chunk$set(results = 'asis', comment = NA, tidy = F, message = F)\n",
      "library(rCharts)"
     ],
     "language": "python",
     "metadata": {},
     "outputs": []
    },
    {
     "cell_type": "markdown",
     "metadata": {},
     "source": [
      "> **Note** This is a multi-part series on how rCharts works. My objective is to show you how easy it is to integrate a javascript visualization library into rCharts, and take advantage of a single-unified interface and other functionalities. \n",
      "\n",
      "In this tutorial, I will go over the steps to integrate [uvCharts](http://imaginea.github.io/uvCharts/), a new-entrant to the rapidly expanding set of wrapper libraries to [d3js](http://d3js.org). Specifically, we will recreate this barchart, which was created using uvCharts.\n",
      "\n",
      "\n",
      "<iframe style=\"width: 100%; height: 600px\" src=\"http://jsfiddle.net/RR8Ub/1/embedded/result,resources,js,html\" seamless frameBorder=\"0\">\n",
      "</iframe>\n",
      "\n",
      "Browse through the `resources`, `javascript` and `html` tabs in the jsFiddle to get a sense of how the chart works.  rCharts will need to create each of these sections, and we will go through them one by one.\n",
      "\n",
      "### Resources\n",
      "\n",
      "The resources required by a chart include the external javascript `<script src = \"...js\">` and css files `<link href=\"...css\" rel=\"stylesheet\">` that are included either in the head of the html document or at the end. rCharts uses a convention over configuration approach, and so the resources are specified using a `config.yml` file as shown below.\n",
      "\n",
      "The [config](libraries/widgets/uvcharts/config.yml) file basically provides paths to the js/css files, both locally and  online from a cdn. The `jshead` key specifies that these js files need to be included in the head of the document."
     ]
    },
    {
     "cell_type": "code",
     "collapsed": false,
     "input": [
      "%%yaml\n",
      "uvcharts:\n",
      "  jshead: [js/d3.v3.min.js, js/uvcharts.js]\n",
      "  cdn:\n",
      "    jshead:\n",
      "      - \"http://cdnjs.cloudflare.com/ajax/libs/d3/3.2.2/d3.v3.min.js\"\n",
      "      - \"http://imaginea.github.io/uvCharts/js/uvcharts.js\""
     ],
     "language": "yaml",
     "metadata": {},
     "outputs": []
    },
    {
     "cell_type": "markdown",
     "metadata": {},
     "source": [
      "At this point, the `uvCharts` library folder will look like this\n",
      "\n",
      "<ul class=\"tree\" id=\"tree\">\n",
      "  <li>js"
     ]
    },
    {
     "cell_type": "code",
     "collapsed": false,
     "input": [
      "<ul>\n",
      "  <li>d3.v3.min.js</li>\n",
      "  <li class=\"last\">uvcharts.js</li>\n",
      "</ul>"
     ],
     "language": "python",
     "metadata": {},
     "outputs": []
    },
    {
     "cell_type": "markdown",
     "metadata": {},
     "source": [
      "  </li>\n",
      "  <li class=\"last\">config.yml</li>\n",
      "</ul>\n",
      "\n",
      "<br/>\n",
      "\n",
      "### Javascript\n",
      "\n",
      "Our next step is to split the javascript for the chart into a [mustache](http://mustache.github.io/) layout, and then populate it using a `json` payload processed by R.\n",
      "\n",
      "<iframe style=\"width: 100%; height: 600px\" src=\"http://jsfiddle.net/RR8Ub/1/embedded/js\"  seamless frameBorder=\"0\">\n",
      "</iframe>\n",
      "\n",
      "\n",
      "By default, `rCharts` bundles all data and parameters into a single json variable `chartParams`. In addition to `chartParams`, it also sends `chartId` to the layout. So, we begin by replacing all data in the javascript with a placeholder `{{{ chartParams }}}`.  rCharts uses the `whisker` package to replace `{{{ chartParams }}}` with the json payload.\n",
      "\n",
      "#### Layout"
     ]
    },
    {
     "cell_type": "code",
     "collapsed": false,
     "input": [
      "%%html\n",
      "<script>\n",
      "  var graphdef = {{{ chartParams }}}\n",
      "  var config = {\n",
      "    meta: {\n",
      "      position: \"#{{ chartId }}\"\n",
      "    }\n",
      "  }\n",
      "  var chart = uv.chart(graphdef.type, graphdef, config)\n",
      "</script>"
     ],
     "language": "html",
     "metadata": {},
     "outputs": []
    },
    {
     "cell_type": "markdown",
     "metadata": {},
     "source": [
      "Following rCharts conventions, we save this layout to `layouts/chart.html`.\n",
      "At this point our [uvCharts](libraries/widgets/uvCharts) library folder is going to look like this \n",
      "\n",
      "<ul class=\"tree\" id=\"tree\">\n",
      "  <li>js"
     ]
    },
    {
     "cell_type": "code",
     "collapsed": false,
     "input": [
      "<ul>\n",
      "  <li>d3.v3.min.js</li>\n",
      "  <li class=\"last\">uvcharts.js</li>\n",
      "</ul>"
     ],
     "language": "python",
     "metadata": {},
     "outputs": []
    },
    {
     "cell_type": "markdown",
     "metadata": {},
     "source": [
      "  </li>\n",
      "  <li>layouts"
     ]
    },
    {
     "cell_type": "code",
     "collapsed": false,
     "input": [
      "<ul>\n",
      "  <li class=\"last\">chart.html</li>\n",
      "</ul>"
     ],
     "language": "python",
     "metadata": {},
     "outputs": []
    },
    {
     "cell_type": "markdown",
     "metadata": {},
     "source": [
      "  <li class=\"last\">config.yml</li>\n",
      "</ul>\n",
      "\n",
      "<br/>\n",
      "\n",
      "\n",
      "#### Payload\n",
      "\n",
      "Different d3js wrapper libraries tend to use different data structures. Our goal with `rCharts` is to provide a single-unified interface for specifying a chart, so that a user does not need to worry about the underlying format used by a specific library. This can be easily achieved by writing functions that transform data (usually a `data.frame`) to different formats, as required by the library.\n",
      "\n",
      "Shown below is the dataset that we will be working with. We need to convert it into an R object, that when converted to JSON will look like the object `dataset` seen in the `javascript` shown above."
     ]
    },
    {
     "cell_type": "code",
     "collapsed": false,
     "input": [
      "hair_eye_male <- subset(as.data.frame(HairEyeColor), Sex == \"Male\")\n",
      "head(hair_eye_male)"
     ],
     "language": "python",
     "metadata": {},
     "outputs": []
    },
    {
     "cell_type": "markdown",
     "metadata": {},
     "source": [
      "We will now write a data transformation function in R that takes `x`, `y`, `data` and `group` as inputs, and returns a data structure that when converted to JSON will match what we need. The basic idea behind `make_dataset` is to (a) rename the `x`, `y` columns to `name`, `value`, (b) split the `data` based on `group` and (c) convert each piece into a JSON array."
     ]
    },
    {
     "cell_type": "code",
     "collapsed": false,
     "input": [
      "data_to_json <- function(x, y, data, group = NULL){\n",
      "  require(plyr)\n",
      "  dat <- rename(data, setNames(c('name', 'value'), c(x, y)))\n",
      "  dat <- dat[c('name', 'value', group)]\n",
      "  if (!is.null(group)){\n",
      "    dlply(dat, group, toJSONArray, json = F)\n",
      "  } else {\n",
      "    list(main = toJSONArray(dat, json = F)) \n",
      "  }\n",
      "}"
     ],
     "language": "python",
     "metadata": {},
     "outputs": []
    },
    {
     "cell_type": "markdown",
     "metadata": {},
     "source": [
      "You can run the code below to check that it produces the same `dataset` variable seen in the javascript above."
     ]
    },
    {
     "cell_type": "code",
     "collapsed": false,
     "input": [
      "dataset = data_to_json('Hair', 'Freq', hair_eye_male, group = 'Eye')\n",
      "cat(RJSONIO::toJSON(dataset))"
     ],
     "language": "python",
     "metadata": {},
     "outputs": []
    },
    {
     "cell_type": "markdown",
     "metadata": {},
     "source": [
      "### Chart Creation\n",
      "\n",
      "It is now time to create the chart from R. We initialize the chart as an instance of `rCharts`, use the `setLib` method to point to the location of the library folder, and then pass the data payload using the `set` method. "
     ]
    },
    {
     "cell_type": "code",
     "collapsed": false,
     "input": [
      "library(rCharts)\n",
      "u1 <- rCharts$new()\n",
      "u1$setLib(\"uvcharts\")\n",
      "u1$set(\n",
      "  type = 'Bar',\n",
      "  categories = names(dataset),\n",
      "  dataset = dataset,\n",
      "  dom = 'chart1'\n",
      ")\n",
      "u1"
     ],
     "language": "python",
     "metadata": {},
     "outputs": []
    },
    {
     "cell_type": "markdown",
     "metadata": {},
     "source": [
      "For the above code to work, you need to make sure that you have [downloaded](https://github.com/rcharts/howitworks/zipball/gh-pages) this repo, and are referring to the correct path to the `uvCharts` library.\n",
      "\n",
      "Alternately, you can point to the online version of the library `http://rcharts.github.io/howitworks/libraries/widgets/uvcharts` in `setLib`, and not have to download anything!!\n",
      "\n",
      "You could save all this code in an file named [myChart.R](assets/code/mychart.R) and then publish the chart along with the code by running the code below. The published chart can be seen [here](http://rcharts.io/viewer/?3b61ed669d7f15156520)\n",
      "\n",
      "For many libraries rCharts already simplifies the steps.  Similarly, you can simplify the chart creation interface further, by wrapping everything into a `uPlot` function"
     ]
    },
    {
     "cell_type": "code",
     "collapsed": false,
     "input": [
      "uPlot <- function(x, y, data, group = NULL, ...){\n",
      "  dataset = data_to_json(x = x, y = y, data = data, group = group)\n",
      "  u1 <- rCharts::rCharts$new()\n",
      "  u1$setLib(\"uvcharts\")\n",
      "  u1$set(\n",
      "    categories = names(dataset),\n",
      "    dataset = dataset,\n",
      "    ...\n",
      "  )\n",
      "  return(u1)\n",
      "}"
     ],
     "language": "python",
     "metadata": {},
     "outputs": []
    },
    {
     "cell_type": "markdown",
     "metadata": {},
     "source": [
      "Let us create a `StackedBar` chart using `uPlot`"
     ]
    },
    {
     "cell_type": "code",
     "collapsed": false,
     "input": [
      "uPlot(\"Hair\", \"Freq\", \n",
      "  data = hair_eye_male, \n",
      "  group = \"Eye\",\n",
      "  type = 'StackedBar'\n",
      ")"
     ],
     "language": "python",
     "metadata": {},
     "outputs": []
    },
    {
     "cell_type": "markdown",
     "metadata": {},
     "source": [
      "So you can see for yourself, how easy it is to integrate a javascript visualization library into `rCharts`. \n",
      "\n",
      "The [uvCharts](http://imaginea.github.io/uvCharts/documentation.html) API provides more functionality to customize the chart. While, we can use nested lists with the `set` method to access this functionality, it would be cleaner to write custom methods that follow the unified interface and make things easier. We will go over this in Part 2 of this series.\n",
      "\n",
      "### Acknowledgements\n",
      "\n",
      "I would like to thank [TimelyPortfolio](http://github.com/timelyportfolio) for his valuable suggestions and comments, which helped improve this post.\n",
      "\n",
      "<style>\n",
      " iframe.rChart{height: 500px;}\n",
      " p {\n",
      " \ttext-align: justify;\n",
      " \tfont-size: 16px;\n",
      " \tline-height: 24px;\n",
      " \tcolor: #333333;\n",
      " }\n",
      "</style>\n",
      "\n"
     ]
    }
   ],
   "metadata": {}
  }
 ]
}